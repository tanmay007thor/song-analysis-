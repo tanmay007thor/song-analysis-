{
 "cells": [
  {
   "cell_type": "code",
   "execution_count": 1,
   "id": "f15c0aca",
   "metadata": {},
   "outputs": [],
   "source": [
    "import numpy as np\n",
    "import pandas as pd\n",
    "import matplotlib.pyplot as plt\n",
    "import seaborn as sns\n",
    "from sklearn.model_selection import train_test_split\n",
    "from sklearn.preprocessing import StandardScaler\n",
    "from sklearn.neighbors import NearestNeighbors  \n",
    "import tensorflow as tf  \n",
    "from sklearn.preprocessing import LabelEncoder\n",
    "from sklearn.preprocessing import StandardScaler\n",
    "from sklearn.cluster import KMeans\n"
   ]
  },
  {
   "cell_type": "code",
   "execution_count": null,
   "id": "38d569da",
   "metadata": {},
   "outputs": [],
   "source": [
    "import pandas as pd\n",
    "import numpy as np\n",
    "import matplotlib.pyplot as plt\n",
    "from sklearn.preprocessing import StandardScaler\n",
    "from sklearn.cluster import KMeans\n",
    "from sklearn.manifold import TSNE\n",
    "\n",
    "data = pd.read_csv('../data/preprocess.csv')\n",
    "\n",
    "features = [\n",
    "    'variance', 'Tempo', 'Loudness', 'Explicit', 'Popularity', 'Energy',\n",
    "    'Danceability', 'Positiveness', 'Speechiness', 'Liveness',\n",
    "    'Acousticness', 'Instrumentalness'\n",
    "]\n",
    "\n",
    "scaler = StandardScaler()\n",
    "data_scaled = scaler.fit_transform(data[features])\n",
    "\n",
    "kmeans = KMeans(n_clusters=10, random_state=42, n_init='auto')\n",
    "data['Cluster'] = kmeans.fit_predict(data_scaled)\n",
    "\n",
    "tsne = TSNE(n_components=2, random_state=42)\n",
    "data_tsne = tsne.fit_transform(data_scaled)\n",
    "\n",
    "plt.figure(figsize=(10, 6))\n",
    "scatter = plt.scatter(data_tsne[:, 0], data_tsne[:, 1], c=data['Cluster'], cmap='tab10')\n",
    "plt.title('KMeans Clustering of Songs with t-SNE')\n",
    "plt.xlabel('t-SNE Component 1')\n",
    "plt.ylabel('t-SNE Component 2')\n",
    "plt.colorbar(scatter)\n",
    "plt.show()\n"
   ]
  },
  {
   "cell_type": "code",
   "execution_count": null,
   "id": "667fa043",
   "metadata": {},
   "outputs": [
    {
     "name": "stdout",
     "output_type": "stream",
     "text": [
      "Clusters found: 705\n",
      "Noise points (Cluster = -1): 45447\n",
      "    artist  Genre  emotion  Popularity\n",
      "0      523   2033        4          31\n",
      "1      523   2033        5          59\n",
      "2      523   2033        7          50\n",
      "5      523   2033        1          34\n",
      "6      523   2033        7          39\n",
      "9      523   2033        1          56\n",
      "12     523   2033        4          36\n",
      "13     523   2033        4          71\n",
      "14     523   2033        4          30\n",
      "15     523   2033        7          46\n"
     ]
    }
   ],
   "source": [
    "import numpy as np\n",
    "\n",
    "n_clusters = len(set(data['Cluster'])) - (1 if -1 in data['Cluster'].values else 0)\n",
    "n_noise = list(data['Cluster']).count(-1)\n",
    "\n",
    "print(f\"Clusters found: {n_clusters}\")\n",
    "print(f\"Noise points (Cluster = -1): {n_noise}\")\n",
    "# For example, look at songs from cluster 0\n",
    "cluster_sample = data[data['Cluster'] == 0].head(10)\n",
    "print(cluster_sample[['artist', 'Genre', 'emotion', 'Popularity']])\n"
   ]
  }
 ],
 "metadata": {
  "kernelspec": {
   "display_name": "Python 3",
   "language": "python",
   "name": "python3"
  },
  "language_info": {
   "codemirror_mode": {
    "name": "ipython",
    "version": 3
   },
   "file_extension": ".py",
   "mimetype": "text/x-python",
   "name": "python",
   "nbconvert_exporter": "python",
   "pygments_lexer": "ipython3",
   "version": "3.11.9"
  }
 },
 "nbformat": 4,
 "nbformat_minor": 5
}
